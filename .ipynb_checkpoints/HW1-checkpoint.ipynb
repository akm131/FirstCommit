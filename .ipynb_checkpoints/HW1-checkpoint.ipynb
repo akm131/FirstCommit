{
 "cells": [
  {
   "cell_type": "code",
   "execution_count": 52,
   "id": "3706f88c",
   "metadata": {},
   "outputs": [],
   "source": [
    "import pandas as pd"
   ]
  },
  {
   "cell_type": "code",
   "execution_count": 53,
   "id": "cb15941c",
   "metadata": {},
   "outputs": [],
   "source": [
    "#1.Reading “ML_HW_Data_FisherIris.csv” files\n",
    "Iris = pd.read_csv('ML_HW_Data_FisherIris.csv', header = None)"
   ]
  },
  {
   "cell_type": "code",
   "execution_count": 54,
   "id": "cc5512c1",
   "metadata": {},
   "outputs": [
    {
     "data": {
      "text/html": [
       "<div>\n",
       "<style scoped>\n",
       "    .dataframe tbody tr th:only-of-type {\n",
       "        vertical-align: middle;\n",
       "    }\n",
       "\n",
       "    .dataframe tbody tr th {\n",
       "        vertical-align: top;\n",
       "    }\n",
       "\n",
       "    .dataframe thead th {\n",
       "        text-align: right;\n",
       "    }\n",
       "</style>\n",
       "<table border=\"1\" class=\"dataframe\">\n",
       "  <thead>\n",
       "    <tr style=\"text-align: right;\">\n",
       "      <th></th>\n",
       "      <th>0</th>\n",
       "      <th>1</th>\n",
       "      <th>2</th>\n",
       "      <th>3</th>\n",
       "      <th>4</th>\n",
       "    </tr>\n",
       "  </thead>\n",
       "  <tbody>\n",
       "    <tr>\n",
       "      <th>0</th>\n",
       "      <td>2</td>\n",
       "      <td>14</td>\n",
       "      <td>33</td>\n",
       "      <td>50</td>\n",
       "      <td>0</td>\n",
       "    </tr>\n",
       "    <tr>\n",
       "      <th>1</th>\n",
       "      <td>24</td>\n",
       "      <td>56</td>\n",
       "      <td>31</td>\n",
       "      <td>67</td>\n",
       "      <td>1</td>\n",
       "    </tr>\n",
       "    <tr>\n",
       "      <th>2</th>\n",
       "      <td>23</td>\n",
       "      <td>51</td>\n",
       "      <td>31</td>\n",
       "      <td>69</td>\n",
       "      <td>1</td>\n",
       "    </tr>\n",
       "    <tr>\n",
       "      <th>3</th>\n",
       "      <td>2</td>\n",
       "      <td>10</td>\n",
       "      <td>36</td>\n",
       "      <td>46</td>\n",
       "      <td>0</td>\n",
       "    </tr>\n",
       "    <tr>\n",
       "      <th>4</th>\n",
       "      <td>20</td>\n",
       "      <td>52</td>\n",
       "      <td>30</td>\n",
       "      <td>65</td>\n",
       "      <td>1</td>\n",
       "    </tr>\n",
       "  </tbody>\n",
       "</table>\n",
       "</div>"
      ],
      "text/plain": [
       "    0   1   2   3  4\n",
       "0   2  14  33  50  0\n",
       "1  24  56  31  67  1\n",
       "2  23  51  31  69  1\n",
       "3   2  10  36  46  0\n",
       "4  20  52  30  65  1"
      ]
     },
     "execution_count": 54,
     "metadata": {},
     "output_type": "execute_result"
    }
   ],
   "source": [
    "Iris.head()"
   ]
  },
  {
   "cell_type": "code",
   "execution_count": 55,
   "id": "e64af921",
   "metadata": {},
   "outputs": [
    {
     "name": "stdout",
     "output_type": "stream",
     "text": [
      "Total number of rows:150\n",
      "Total number of columns:5\n"
     ]
    }
   ],
   "source": [
    "#2.Display total number of rows and total number of columns of the matrix “Iris”.\n",
    "rows = Iris.shape[0]\n",
    "cols = Iris.shape[1]\n",
    "print(\"Total number of rows:\" + str(rows))\n",
    "print(\"Total number of columns:\" + str(cols))"
   ]
  },
  {
   "cell_type": "code",
   "execution_count": 56,
   "id": "da96876a",
   "metadata": {},
   "outputs": [
    {
     "data": {
      "text/html": [
       "<div>\n",
       "<style scoped>\n",
       "    .dataframe tbody tr th:only-of-type {\n",
       "        vertical-align: middle;\n",
       "    }\n",
       "\n",
       "    .dataframe tbody tr th {\n",
       "        vertical-align: top;\n",
       "    }\n",
       "\n",
       "    .dataframe thead th {\n",
       "        text-align: right;\n",
       "    }\n",
       "</style>\n",
       "<table border=\"1\" class=\"dataframe\">\n",
       "  <thead>\n",
       "    <tr style=\"text-align: right;\">\n",
       "      <th></th>\n",
       "      <th>0</th>\n",
       "      <th>1</th>\n",
       "      <th>2</th>\n",
       "      <th>3</th>\n",
       "      <th>4</th>\n",
       "    </tr>\n",
       "  </thead>\n",
       "  <tbody>\n",
       "    <tr>\n",
       "      <th>10</th>\n",
       "      <td>2</td>\n",
       "      <td>16</td>\n",
       "      <td>31</td>\n",
       "      <td>48</td>\n",
       "      <td>-10</td>\n",
       "    </tr>\n",
       "    <tr>\n",
       "      <th>23</th>\n",
       "      <td>15</td>\n",
       "      <td>45</td>\n",
       "      <td>29</td>\n",
       "      <td>60</td>\n",
       "      <td>-12</td>\n",
       "    </tr>\n",
       "    <tr>\n",
       "      <th>58</th>\n",
       "      <td>2</td>\n",
       "      <td>13</td>\n",
       "      <td>35</td>\n",
       "      <td>55</td>\n",
       "      <td>-10</td>\n",
       "    </tr>\n",
       "    <tr>\n",
       "      <th>89</th>\n",
       "      <td>12</td>\n",
       "      <td>47</td>\n",
       "      <td>28</td>\n",
       "      <td>61</td>\n",
       "      <td>-12</td>\n",
       "    </tr>\n",
       "    <tr>\n",
       "      <th>108</th>\n",
       "      <td>13</td>\n",
       "      <td>52</td>\n",
       "      <td>30</td>\n",
       "      <td>67</td>\n",
       "      <td>-11</td>\n",
       "    </tr>\n",
       "    <tr>\n",
       "      <th>136</th>\n",
       "      <td>18</td>\n",
       "      <td>63</td>\n",
       "      <td>29</td>\n",
       "      <td>73</td>\n",
       "      <td>-11</td>\n",
       "    </tr>\n",
       "  </tbody>\n",
       "</table>\n",
       "</div>"
      ],
      "text/plain": [
       "      0   1   2   3   4\n",
       "10    2  16  31  48 -10\n",
       "23   15  45  29  60 -12\n",
       "58    2  13  35  55 -10\n",
       "89   12  47  28  61 -12\n",
       "108  13  52  30  67 -11\n",
       "136  18  63  29  73 -11"
      ]
     },
     "execution_count": 56,
     "metadata": {},
     "output_type": "execute_result"
    }
   ],
   "source": [
    "#3.Display all the row numbers (i.e. record numbers) that have the 5th column less than 0.\n",
    "Iris.loc[Iris[4] < 0]"
   ]
  },
  {
   "cell_type": "code",
   "execution_count": 57,
   "id": "72b8c224",
   "metadata": {},
   "outputs": [
    {
     "data": {
      "text/html": [
       "<div>\n",
       "<style scoped>\n",
       "    .dataframe tbody tr th:only-of-type {\n",
       "        vertical-align: middle;\n",
       "    }\n",
       "\n",
       "    .dataframe tbody tr th {\n",
       "        vertical-align: top;\n",
       "    }\n",
       "\n",
       "    .dataframe thead th {\n",
       "        text-align: right;\n",
       "    }\n",
       "</style>\n",
       "<table border=\"1\" class=\"dataframe\">\n",
       "  <thead>\n",
       "    <tr style=\"text-align: right;\">\n",
       "      <th></th>\n",
       "      <th>0</th>\n",
       "      <th>1</th>\n",
       "      <th>2</th>\n",
       "      <th>3</th>\n",
       "      <th>4</th>\n",
       "    </tr>\n",
       "  </thead>\n",
       "  <tbody>\n",
       "    <tr>\n",
       "      <th>0</th>\n",
       "      <td>2</td>\n",
       "      <td>14</td>\n",
       "      <td>33</td>\n",
       "      <td>50</td>\n",
       "      <td>0</td>\n",
       "    </tr>\n",
       "    <tr>\n",
       "      <th>1</th>\n",
       "      <td>24</td>\n",
       "      <td>56</td>\n",
       "      <td>31</td>\n",
       "      <td>67</td>\n",
       "      <td>1</td>\n",
       "    </tr>\n",
       "    <tr>\n",
       "      <th>2</th>\n",
       "      <td>23</td>\n",
       "      <td>51</td>\n",
       "      <td>31</td>\n",
       "      <td>69</td>\n",
       "      <td>1</td>\n",
       "    </tr>\n",
       "    <tr>\n",
       "      <th>3</th>\n",
       "      <td>2</td>\n",
       "      <td>10</td>\n",
       "      <td>36</td>\n",
       "      <td>46</td>\n",
       "      <td>0</td>\n",
       "    </tr>\n",
       "    <tr>\n",
       "      <th>4</th>\n",
       "      <td>20</td>\n",
       "      <td>52</td>\n",
       "      <td>30</td>\n",
       "      <td>65</td>\n",
       "      <td>1</td>\n",
       "    </tr>\n",
       "    <tr>\n",
       "      <th>5</th>\n",
       "      <td>19</td>\n",
       "      <td>51</td>\n",
       "      <td>27</td>\n",
       "      <td>58</td>\n",
       "      <td>1</td>\n",
       "    </tr>\n",
       "    <tr>\n",
       "      <th>6</th>\n",
       "      <td>13</td>\n",
       "      <td>45</td>\n",
       "      <td>28</td>\n",
       "      <td>57</td>\n",
       "      <td>2</td>\n",
       "    </tr>\n",
       "    <tr>\n",
       "      <th>7</th>\n",
       "      <td>16</td>\n",
       "      <td>47</td>\n",
       "      <td>33</td>\n",
       "      <td>63</td>\n",
       "      <td>2</td>\n",
       "    </tr>\n",
       "    <tr>\n",
       "      <th>8</th>\n",
       "      <td>17</td>\n",
       "      <td>45</td>\n",
       "      <td>25</td>\n",
       "      <td>49</td>\n",
       "      <td>1</td>\n",
       "    </tr>\n",
       "    <tr>\n",
       "      <th>9</th>\n",
       "      <td>14</td>\n",
       "      <td>47</td>\n",
       "      <td>32</td>\n",
       "      <td>70</td>\n",
       "      <td>2</td>\n",
       "    </tr>\n",
       "  </tbody>\n",
       "</table>\n",
       "</div>"
      ],
      "text/plain": [
       "    0   1   2   3  4\n",
       "0   2  14  33  50  0\n",
       "1  24  56  31  67  1\n",
       "2  23  51  31  69  1\n",
       "3   2  10  36  46  0\n",
       "4  20  52  30  65  1\n",
       "5  19  51  27  58  1\n",
       "6  13  45  28  57  2\n",
       "7  16  47  33  63  2\n",
       "8  17  45  25  49  1\n",
       "9  14  47  32  70  2"
      ]
     },
     "execution_count": 57,
     "metadata": {},
     "output_type": "execute_result"
    }
   ],
   "source": [
    "#4.Remove the rows with the 5th column less than 0 from the “Iris” matrix.\n",
    "Iris = Iris.loc[Iris[4] >= 0]\n",
    "Iris.head(10)"
   ]
  },
  {
   "cell_type": "code",
   "execution_count": 58,
   "id": "f25d9040",
   "metadata": {},
   "outputs": [
    {
     "name": "stdout",
     "output_type": "stream",
     "text": [
      "Total number of rows:144\n",
      "Total number of columns:5\n"
     ]
    }
   ],
   "source": [
    "#5.Display total number of rows and total number of columns of the “Iris” matrix again.\n",
    "rows = Iris.shape[0]\n",
    "cols = Iris.shape[1]\n",
    "print(\"Total number of rows:\" + str(rows))\n",
    "print(\"Total number of columns:\" + str(cols))"
   ]
  },
  {
   "cell_type": "code",
   "execution_count": 59,
   "id": "08f821cf",
   "metadata": {},
   "outputs": [
    {
     "data": {
      "text/html": [
       "<div>\n",
       "<style scoped>\n",
       "    .dataframe tbody tr th:only-of-type {\n",
       "        vertical-align: middle;\n",
       "    }\n",
       "\n",
       "    .dataframe tbody tr th {\n",
       "        vertical-align: top;\n",
       "    }\n",
       "\n",
       "    .dataframe thead th {\n",
       "        text-align: right;\n",
       "    }\n",
       "</style>\n",
       "<table border=\"1\" class=\"dataframe\">\n",
       "  <thead>\n",
       "    <tr style=\"text-align: right;\">\n",
       "      <th></th>\n",
       "      <th>0</th>\n",
       "      <th>1</th>\n",
       "      <th>2</th>\n",
       "      <th>3</th>\n",
       "    </tr>\n",
       "  </thead>\n",
       "  <tbody>\n",
       "    <tr>\n",
       "      <th>0</th>\n",
       "      <td>2</td>\n",
       "      <td>14</td>\n",
       "      <td>33</td>\n",
       "      <td>50</td>\n",
       "    </tr>\n",
       "    <tr>\n",
       "      <th>1</th>\n",
       "      <td>24</td>\n",
       "      <td>56</td>\n",
       "      <td>31</td>\n",
       "      <td>67</td>\n",
       "    </tr>\n",
       "    <tr>\n",
       "      <th>2</th>\n",
       "      <td>23</td>\n",
       "      <td>51</td>\n",
       "      <td>31</td>\n",
       "      <td>69</td>\n",
       "    </tr>\n",
       "    <tr>\n",
       "      <th>3</th>\n",
       "      <td>2</td>\n",
       "      <td>10</td>\n",
       "      <td>36</td>\n",
       "      <td>46</td>\n",
       "    </tr>\n",
       "    <tr>\n",
       "      <th>4</th>\n",
       "      <td>20</td>\n",
       "      <td>52</td>\n",
       "      <td>30</td>\n",
       "      <td>65</td>\n",
       "    </tr>\n",
       "  </tbody>\n",
       "</table>\n",
       "</div>"
      ],
      "text/plain": [
       "    0   1   2   3\n",
       "0   2  14  33  50\n",
       "1  24  56  31  67\n",
       "2  23  51  31  69\n",
       "3   2  10  36  46\n",
       "4  20  52  30  65"
      ]
     },
     "execution_count": 59,
     "metadata": {},
     "output_type": "execute_result"
    }
   ],
   "source": [
    "#6.Copy the first 4 columns in the new “Iris” matrix into a new matrix “X”.\n",
    "selected_columns = Iris[[0, 1, 2, 3]]\n",
    "X = selected_columns.copy()\n",
    "X.head()"
   ]
  },
  {
   "cell_type": "code",
   "execution_count": 60,
   "id": "092c4d5c",
   "metadata": {},
   "outputs": [
    {
     "data": {
      "text/html": [
       "<div>\n",
       "<style scoped>\n",
       "    .dataframe tbody tr th:only-of-type {\n",
       "        vertical-align: middle;\n",
       "    }\n",
       "\n",
       "    .dataframe tbody tr th {\n",
       "        vertical-align: top;\n",
       "    }\n",
       "\n",
       "    .dataframe thead th {\n",
       "        text-align: right;\n",
       "    }\n",
       "</style>\n",
       "<table border=\"1\" class=\"dataframe\">\n",
       "  <thead>\n",
       "    <tr style=\"text-align: right;\">\n",
       "      <th></th>\n",
       "      <th>4</th>\n",
       "    </tr>\n",
       "  </thead>\n",
       "  <tbody>\n",
       "    <tr>\n",
       "      <th>0</th>\n",
       "      <td>0</td>\n",
       "    </tr>\n",
       "    <tr>\n",
       "      <th>1</th>\n",
       "      <td>1</td>\n",
       "    </tr>\n",
       "    <tr>\n",
       "      <th>2</th>\n",
       "      <td>1</td>\n",
       "    </tr>\n",
       "    <tr>\n",
       "      <th>3</th>\n",
       "      <td>0</td>\n",
       "    </tr>\n",
       "    <tr>\n",
       "      <th>4</th>\n",
       "      <td>1</td>\n",
       "    </tr>\n",
       "  </tbody>\n",
       "</table>\n",
       "</div>"
      ],
      "text/plain": [
       "   4\n",
       "0  0\n",
       "1  1\n",
       "2  1\n",
       "3  0\n",
       "4  1"
      ]
     },
     "execution_count": 60,
     "metadata": {},
     "output_type": "execute_result"
    }
   ],
   "source": [
    "#7.Copy the 5th columns in the new “Iris” matrix into a new variable (or matrix) “Y”.\n",
    "select = Iris[[4]]\n",
    "Y = select.copy()\n",
    "Y.head()"
   ]
  },
  {
   "cell_type": "code",
   "execution_count": 61,
   "id": "2121798b",
   "metadata": {},
   "outputs": [
    {
     "name": "stdout",
     "output_type": "stream",
     "text": [
      "Max value of column0    25\n",
      "dtype: int64\n",
      "Min value of column0    1\n",
      "dtype: int64\n"
     ]
    }
   ],
   "source": [
    "#8.Display the maximum value and the minimum value of EACH column in “X”.\n",
    "col0 = X[[0]]\n",
    "col0_max_value = col0.max()\n",
    "col0_min_value = col0.min()\n",
    "print('Max value of column' + str(col0_max_value))\n",
    "print('Min value of column' + str(col0_min_value))"
   ]
  },
  {
   "cell_type": "code",
   "execution_count": 62,
   "id": "ff931fd7",
   "metadata": {},
   "outputs": [
    {
     "name": "stdout",
     "output_type": "stream",
     "text": [
      "Max value of column1    69\n",
      "dtype: int64\n",
      "Min value of column1    10\n",
      "dtype: int64\n"
     ]
    }
   ],
   "source": [
    "col1 = X[[1]]\n",
    "col1_max_value = col1.max()\n",
    "col1_min_value = col1.min()\n",
    "print('Max value of column' + str(col1_max_value))\n",
    "print('Min value of column' + str(col1_min_value))"
   ]
  },
  {
   "cell_type": "code",
   "execution_count": 63,
   "id": "ede1331e",
   "metadata": {},
   "outputs": [
    {
     "name": "stdout",
     "output_type": "stream",
     "text": [
      "Max value of column2    44\n",
      "dtype: int64\n",
      "Min value of column2    20\n",
      "dtype: int64\n"
     ]
    }
   ],
   "source": [
    "col2 = X[[2]]\n",
    "col2_max_value = col2.max()\n",
    "col2_min_value = col2.min()\n",
    "print('Max value of column' + str(col2_max_value))\n",
    "print('Min value of column' + str(col2_min_value))"
   ]
  },
  {
   "cell_type": "code",
   "execution_count": 64,
   "id": "5eeb59ed",
   "metadata": {},
   "outputs": [
    {
     "name": "stdout",
     "output_type": "stream",
     "text": [
      "Max value of column3    79\n",
      "dtype: int64\n",
      "Min value of column3    43\n",
      "dtype: int64\n"
     ]
    }
   ],
   "source": [
    "col3 = X[[3]]\n",
    "col3_max_value = col3.max()\n",
    "col3_min_value = col3.min()\n",
    "print('Max value of column' + str(col3_max_value))\n",
    "print('Min value of column' + str(col3_min_value))"
   ]
  },
  {
   "cell_type": "code",
   "execution_count": 65,
   "id": "4fc414a9",
   "metadata": {},
   "outputs": [
    {
     "name": "stdout",
     "output_type": "stream",
     "text": [
      "Total number of elements in third column greater than 36 : 15\n"
     ]
    }
   ],
   "source": [
    "#9.Display total number of elements (i.e. items) in the third column of the matrix “X” that are greater than 36.\n",
    "column2 = X[2]\n",
    "count = 0\n",
    "for i in column2 :\n",
    "    if i > 36 :\n",
    "        count = count + 1\n",
    "print (\"Total number of elements in third column greater than 36 : \" + str(count))"
   ]
  },
  {
   "cell_type": "code",
   "execution_count": null,
   "id": "b2dc41a4",
   "metadata": {},
   "outputs": [],
   "source": []
  }
 ],
 "metadata": {
  "kernelspec": {
   "display_name": "Python 3 (ipykernel)",
   "language": "python",
   "name": "python3"
  },
  "language_info": {
   "codemirror_mode": {
    "name": "ipython",
    "version": 3
   },
   "file_extension": ".py",
   "mimetype": "text/x-python",
   "name": "python",
   "nbconvert_exporter": "python",
   "pygments_lexer": "ipython3",
   "version": "3.9.7"
  }
 },
 "nbformat": 4,
 "nbformat_minor": 5
}
